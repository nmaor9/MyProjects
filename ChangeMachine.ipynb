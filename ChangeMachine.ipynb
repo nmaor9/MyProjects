{
 "cells": [
  {
   "cell_type": "code",
   "execution_count": 1,
   "metadata": {},
   "outputs": [],
   "source": [
    "denominations = []\n",
    "for amount in [1, 2, 5, 10, 20, 50]:\n",
    "    for factor in [0.01, 0.1, 1]:\n",
    "        denominations.append(amount*factor)\n",
    "\n",
    "denominations = list(set(denominations)) #get rid of repeated elements\n",
    "denominations.sort()"
   ]
  },
  {
   "cell_type": "code",
   "execution_count": 2,
   "metadata": {},
   "outputs": [],
   "source": [
    "denominations = denominations[::-1] #the denominations of the British Pound in cash"
   ]
  },
  {
   "cell_type": "code",
   "execution_count": 3,
   "metadata": {},
   "outputs": [],
   "source": [
    "names = {'p', 'twop', 'fivep', 'tenp', 'twentyp', 'fiftyp', 'pound', 'twopound', 'fivepound',\n",
    "         'tenpound', 'twentypound', 'fiftypound'}"
   ]
  },
  {
   "cell_type": "code",
   "execution_count": 4,
   "metadata": {},
   "outputs": [],
   "source": [
    "def give_change(price, cash, denoms):\n",
    "\n",
    "    change = cash - price + 0.01 #initialise change to be given and fudge the issue of the change missing a single 1p coin\n",
    "    change_given = []\n",
    "    how_many_fit = 0\n",
    "    \n",
    "    for i in denoms:\n",
    "        how_many_fit = change // i\n",
    "        if how_many_fit >= 1:\n",
    "            change_given.append((i, how_many_fit))\n",
    "            change = change - (i*how_many_fit)\n",
    "\n",
    "    return change_given"
   ]
  },
  {
   "cell_type": "code",
   "execution_count": 10,
   "metadata": {},
   "outputs": [
    {
     "data": {
      "text/plain": [
       "[(10, 1.0), (0.5, 1.0)]"
      ]
     },
     "execution_count": 10,
     "metadata": {},
     "output_type": "execute_result"
    }
   ],
   "source": [
    "give_change(5.03, 15.53, denominations)"
   ]
  },
  {
   "cell_type": "code",
   "execution_count": null,
   "metadata": {},
   "outputs": [],
   "source": []
  }
 ],
 "metadata": {
  "kernelspec": {
   "display_name": "Python 3",
   "language": "python",
   "name": "python3"
  },
  "language_info": {
   "codemirror_mode": {
    "name": "ipython",
    "version": 3
   },
   "file_extension": ".py",
   "mimetype": "text/x-python",
   "name": "python",
   "nbconvert_exporter": "python",
   "pygments_lexer": "ipython3",
   "version": "3.7.6"
  }
 },
 "nbformat": 4,
 "nbformat_minor": 4
}
