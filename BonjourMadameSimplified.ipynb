{
 "cells": [
  {
   "cell_type": "code",
   "execution_count": 1,
   "metadata": {},
   "outputs": [],
   "source": [
    "import random\n",
    "import numpy as np\n",
    "import matplotlib.pyplot as plt\n",
    "import pandas as pd\n",
    "%matplotlib inline"
   ]
  },
  {
   "cell_type": "code",
   "execution_count": 2,
   "metadata": {},
   "outputs": [],
   "source": [
    "import seaborn as sns"
   ]
  },
  {
   "cell_type": "code",
   "execution_count": 3,
   "metadata": {},
   "outputs": [],
   "source": [
    "#Tuples for the suits and ranks. A dictionary matching each rank to its point value.\n",
    "\n",
    "suits = ('Hearts', 'Diamonds', 'Spades', 'Clubs')\n",
    "ranks = ('Two', 'Three', 'Four', 'Five', 'Six', 'Seven', 'Eight', 'Nine', 'Ten', 'Jack', 'Queen', 'King', 'Ace')\n",
    "values = {'Two':2, 'Three':3, 'Four':4, 'Five':5, 'Six':6, 'Seven':7, 'Eight':8, \n",
    "            'Nine':9, 'Ten':10, 'Jack':11, 'Queen':12, 'King':13, 'Ace':14}"
   ]
  },
  {
   "cell_type": "code",
   "execution_count": 4,
   "metadata": {},
   "outputs": [],
   "source": [
    "class Card:\n",
    "    \n",
    "    def __init__(self,suit,rank):\n",
    "        self.suit = suit\n",
    "        self.rank = rank\n",
    "        self.value = values[rank]\n",
    "        \n",
    "    def __str__(self):\n",
    "        return self.rank + ' of ' + self.suit"
   ]
  },
  {
   "cell_type": "code",
   "execution_count": 5,
   "metadata": {},
   "outputs": [],
   "source": [
    "class Deck:\n",
    "    \n",
    "    def __init__(self):\n",
    "        self.all_cards = [] \n",
    "        for suit in suits: #For every suit...\n",
    "            for rank in ranks: #...add a card of every rank.\n",
    "                self.all_cards.append(Card(suit,rank))\n",
    "                \n",
    "    def shuffle(self):\n",
    "        random.shuffle(self.all_cards)\n",
    "        \n",
    "    def deal_one(self): #You can comment out the print statement if you don't want to know which card is dealt.\n",
    "        print(self.all_cards[-1])\n",
    "        return self.all_cards.pop()\n",
    "    \n",
    "    def remaining(self): #In case you need to know how many cards are available.\n",
    "        return len(self.all_cards)"
   ]
  },
  {
   "cell_type": "code",
   "execution_count": 6,
   "metadata": {},
   "outputs": [],
   "source": [
    "def check_queen(dealt_card):\n",
    "    return dealt_card.rank == 'Queen' #Is it a queen? If so, return True."
   ]
  },
  {
   "cell_type": "code",
   "execution_count": 7,
   "metadata": {},
   "outputs": [],
   "source": [
    "class Player():\n",
    "    #The skill attribute is a tuple of two integers that decides \n",
    "    #the player's reaction time in arbitrary units.\n",
    "    #The actual values only matter in relation to other players.\n",
    "    \n",
    "    def __init__(self, name, skill, cards_held = []):\n",
    "        self.name = name\n",
    "        self.skill = skill\n",
    "        self.cards_held = cards_held\n",
    "        \n",
    "    def add_card(self, new_card):\n",
    "        self.cards_held = self.cards_held.append(new_card)\n",
    "        \n",
    "    def react_to_queen(self):\n",
    "        return random.randint(self.skill[0], self.skill[1]) #This is the reaction time to seeing a queen."
   ]
  },
  {
   "cell_type": "code",
   "execution_count": 8,
   "metadata": {},
   "outputs": [],
   "source": [
    "def BonjourMadame(player1, player2, deck):\n",
    "    \n",
    "    #Split the deck between the players.\n",
    "    cards1 = deck.all_cards[0:26]\n",
    "    cards2 = deck.all_cards[26:52]\n",
    "    \n",
    "    #Haven't started playing yet.\n",
    "    turn = 0\n",
    "    cards_placed = [] #So there aren't any cards in the middle.\n",
    "    \n",
    "    while len(cards1) > 0 and len(cards2) > 0: #While both players still have cards...\n",
    "        turn += 1\n",
    "        if turn % 2 == 0: #player1 puts a card down on even turns.\n",
    "            new_card = cards1[-1]\n",
    "            cards1.pop() #We take the final item to be the TOP of the cards held by a player.\n",
    "            #The reason for this is so that we can conveniently use pop() to remove the top card.\n",
    "        else:\n",
    "            new_card = cards2[-1]\n",
    "            cards2.pop()\n",
    "        \n",
    "        #print(new_card) #Troubleshooting print statement to ensure cards are being dealt properly.\n",
    "        cards_placed.append(new_card) #The new card is added to the cards in the middle.\n",
    "        \n",
    "        if check_queen(new_card):\n",
    "            player1_reaction_time = player1.react_to_queen()\n",
    "            player2_reaction_time = player2.react_to_queen()\n",
    "            \n",
    "            if player1_reaction_time > player2_reaction_time: #If player1 is slower to react...\n",
    "                cards1 = cards_placed + cards1 #player1 takes the cards from the middle AND PUTS THEM AT THE BOTTOM.\n",
    "                cards_placed = [] #So no cards are in the middle any more.\n",
    "            elif player1_reaction_time == player2_reaction_time: #If both players react at the same speed, nothing happens.\n",
    "                pass\n",
    "            else: #If player1 is faster, player2 takes the cards.\n",
    "                cards2 = cards_placed + cards2\n",
    "                cards_placed = []\n",
    "            \n",
    "    if len(cards1) == 0:\n",
    "        #winner = player1.name\n",
    "        winner = 0\n",
    "    else:\n",
    "        #winner = player2.name\n",
    "        winner = 1\n",
    "    \n",
    "    #print(\"{} is the winner!\".format(winner))\n",
    "    return (len(cards1), len(cards2), len(cards_placed), turn, winner)"
   ]
  },
  {
   "cell_type": "markdown",
   "metadata": {},
   "source": [
    "Now, the aim is to see how a difference in skill level affects the turns taken to win."
   ]
  },
  {
   "cell_type": "code",
   "execution_count": 13,
   "metadata": {},
   "outputs": [
    {
     "data": {
      "text/plain": [
       "array([[  0,  48,   4,  58,   0, -49],\n",
       "       [  0,  51,   1,  52,   0, -48],\n",
       "       [  0,  51,   1, 122,   0, -47],\n",
       "       [  0,  46,   6,  52,   0, -46],\n",
       "       [  0,  36,  16,  52,   0, -45],\n",
       "       [  0,  52,   0, 104,   0, -44],\n",
       "       [  0,  40,  12,  90,   0, -43],\n",
       "       [  0,  41,  11,  52,   0, -42],\n",
       "       [  0,  50,   2,  56,   0, -41],\n",
       "       [  0,  49,   3,  58,   0, -40],\n",
       "       [  0,  50,   2,  52,   0, -39],\n",
       "       [ 50,   0,   2,  89,   1, -38],\n",
       "       [  0,  52,   0, 100,   0, -37],\n",
       "       [  0,  51,   1,  88,   0, -36],\n",
       "       [  0,  52,   0,  74,   0, -35],\n",
       "       [  0,  15,  37,  52,   0, -34],\n",
       "       [  0,  52,   0,  58,   0, -33],\n",
       "       [  0,  52,   0, 244,   0, -32],\n",
       "       [  0,  31,  21,  52,   0, -31],\n",
       "       [  0,  32,  20,  74,   0, -30],\n",
       "       [  0,  50,   2,  52,   0, -29],\n",
       "       [  0,  52,   0,  52,   0, -28],\n",
       "       [ 50,   0,   2,  51,   1, -27],\n",
       "       [  0,  48,   4,  58,   0, -26],\n",
       "       [  0,  48,   4,  92,   0, -25],\n",
       "       [  0,  40,  12, 134,   0, -24],\n",
       "       [  0,  50,   2,  90,   0, -23],\n",
       "       [  0,  46,   6, 172,   0, -22],\n",
       "       [  0,  45,   7,  52,   0, -21],\n",
       "       [  0,  46,   6,  52,   0, -20],\n",
       "       [  0,  37,  15,  78,   0, -19],\n",
       "       [  0,  42,  10,  52,   0, -18],\n",
       "       [  0,  50,   2, 194,   0, -17],\n",
       "       [  0,  48,   4, 182,   0, -16],\n",
       "       [ 44,   0,   8, 131,   1, -15],\n",
       "       [  0,  15,  37, 126,   0, -14],\n",
       "       [  0,  44,   8, 248,   0, -13],\n",
       "       [  0,  51,   1, 228,   0, -12],\n",
       "       [  0,  47,   5, 204,   0, -11],\n",
       "       [  0,  34,  18,  72,   0, -10],\n",
       "       [  0,  43,   9,  52,   0,  -9],\n",
       "       [  0,  34,  18,  72,   0,  -8],\n",
       "       [  0,  23,  29,  52,   0,  -7],\n",
       "       [  0,  52,   0,  74,   0,  -6],\n",
       "       [ 52,   0,   0, 135,   1,  -5],\n",
       "       [  0,  52,   0, 234,   0,  -4],\n",
       "       [  0,  40,  12,  52,   0,  -3],\n",
       "       [ 30,   0,  22, 135,   1,  -2],\n",
       "       [  0,  51,   1, 324,   0,  -1],\n",
       "       [  0,  50,   2, 142,   0,   0],\n",
       "       [  0,  52,   0,  80,   0,   1],\n",
       "       [  0,  42,  10, 146,   0,   2],\n",
       "       [  0,  33,  19,  52,   0,   3],\n",
       "       [  0,  36,  16,  70,   0,   4],\n",
       "       [  0,  44,   8, 152,   0,   5],\n",
       "       [ 48,   0,   4, 183,   1,   6],\n",
       "       [ 50,   0,   2, 187,   1,   7],\n",
       "       [ 26,   0,  26,  51,   1,   8],\n",
       "       [  0,  52,   0, 258,   0,   9],\n",
       "       [ 36,   0,  16, 173,   1,  10],\n",
       "       [  0,  44,   8,  92,   0,  11],\n",
       "       [ 30,   0,  22, 151,   1,  12],\n",
       "       [  0,  38,  14, 194,   0,  13],\n",
       "       [ 50,   0,   2,  71,   1,  14],\n",
       "       [ 47,   0,   5,  51,   1,  15],\n",
       "       [ 48,   0,   4,  91,   1,  16],\n",
       "       [ 35,   0,  17,  97,   1,  17],\n",
       "       [  0,  52,   0,  74,   0,  18],\n",
       "       [ 41,   0,  11, 145,   1,  19],\n",
       "       [ 33,   0,  19,  89,   1,  20],\n",
       "       [  0,  17,  35, 148,   0,  21],\n",
       "       [ 51,   0,   1,  51,   1,  22],\n",
       "       [ 31,   0,  21,  75,   1,  23],\n",
       "       [ 42,   0,  10,  91,   1,  24],\n",
       "       [ 50,   0,   2, 145,   1,  25],\n",
       "       [ 52,   0,   0,  93,   1,  26],\n",
       "       [ 38,   0,  14,  91,   1,  27],\n",
       "       [ 52,   0,   0,  97,   1,  28],\n",
       "       [ 52,   0,   0,  63,   1,  29],\n",
       "       [ 41,   0,  11,  65,   1,  30],\n",
       "       [ 46,   0,   6, 107,   1,  31],\n",
       "       [ 52,   0,   0,  81,   1,  32],\n",
       "       [ 42,   0,  10,  51,   1,  33],\n",
       "       [ 42,   0,  10,  77,   1,  34],\n",
       "       [ 45,   0,   7,  51,   1,  35],\n",
       "       [ 48,   0,   4,  51,   1,  36],\n",
       "       [ 37,   0,  15,  75,   1,  37],\n",
       "       [ 49,   0,   3,  57,   1,  38],\n",
       "       [ 40,   0,  12,  51,   1,  39],\n",
       "       [ 47,   0,   5,  59,   1,  40],\n",
       "       [ 49,   0,   3,  63,   1,  41],\n",
       "       [ 21,   0,  31,  85,   1,  42],\n",
       "       [ 27,   0,  25,  51,   1,  43],\n",
       "       [ 37,   0,  15,  51,   1,  44],\n",
       "       [ 35,   0,  17,  51,   1,  45],\n",
       "       [ 40,   0,  12,  51,   1,  46],\n",
       "       [ 52,   0,   0,  51,   1,  47],\n",
       "       [ 43,   0,   9,  51,   1,  48],\n",
       "       [ 40,   0,  12,  51,   1,  49]])"
      ]
     },
     "execution_count": 13,
     "metadata": {},
     "output_type": "execute_result"
    }
   ],
   "source": [
    "Nir = Player('Nir',[0,50]) #recently changed the skill to be a list, not a tuple, for mutability\n",
    "Jade = Player('Jade',[0,100])\n",
    "results = []\n",
    "skilldif = []\n",
    "\n",
    "while (Jade.skill[1] - Jade.skill[0]) > 1:\n",
    "    #start running the simulations\n",
    "    mydeck = Deck() \n",
    "    mydeck.shuffle()   \n",
    "    res = BonjourMadame(Nir, Jade, mydeck)\n",
    "    results.append(res)\n",
    "    \n",
    "    Jade.skill[1] -= 1 #Make Jade a bit more skilled.\n",
    "    skilldif.append((Nir.skill[1] - Jade.skill[1]))\n",
    "\n",
    "res_arr = np.array(results)\n",
    "skilldif_arr = np.array(skilldif)\n",
    "full_arr = np.c_[res_arr, skilldif_arr]\n",
    "full_arr"
   ]
  },
  {
   "cell_type": "code",
   "execution_count": 14,
   "metadata": {},
   "outputs": [
    {
     "data": {
      "text/html": [
       "<div>\n",
       "<style scoped>\n",
       "    .dataframe tbody tr th:only-of-type {\n",
       "        vertical-align: middle;\n",
       "    }\n",
       "\n",
       "    .dataframe tbody tr th {\n",
       "        vertical-align: top;\n",
       "    }\n",
       "\n",
       "    .dataframe thead th {\n",
       "        text-align: right;\n",
       "    }\n",
       "</style>\n",
       "<table border=\"1\" class=\"dataframe\">\n",
       "  <thead>\n",
       "    <tr style=\"text-align: right;\">\n",
       "      <th></th>\n",
       "      <th>P1Cards</th>\n",
       "      <th>P2Cards</th>\n",
       "      <th>MiddleCards</th>\n",
       "      <th>Turns</th>\n",
       "      <th>Winner</th>\n",
       "    </tr>\n",
       "    <tr>\n",
       "      <th>SkillDif</th>\n",
       "      <th></th>\n",
       "      <th></th>\n",
       "      <th></th>\n",
       "      <th></th>\n",
       "      <th></th>\n",
       "    </tr>\n",
       "  </thead>\n",
       "  <tbody>\n",
       "    <tr>\n",
       "      <th>-49</th>\n",
       "      <td>0</td>\n",
       "      <td>48</td>\n",
       "      <td>4</td>\n",
       "      <td>58</td>\n",
       "      <td>0</td>\n",
       "    </tr>\n",
       "    <tr>\n",
       "      <th>-48</th>\n",
       "      <td>0</td>\n",
       "      <td>51</td>\n",
       "      <td>1</td>\n",
       "      <td>52</td>\n",
       "      <td>0</td>\n",
       "    </tr>\n",
       "    <tr>\n",
       "      <th>-47</th>\n",
       "      <td>0</td>\n",
       "      <td>51</td>\n",
       "      <td>1</td>\n",
       "      <td>122</td>\n",
       "      <td>0</td>\n",
       "    </tr>\n",
       "    <tr>\n",
       "      <th>-46</th>\n",
       "      <td>0</td>\n",
       "      <td>46</td>\n",
       "      <td>6</td>\n",
       "      <td>52</td>\n",
       "      <td>0</td>\n",
       "    </tr>\n",
       "    <tr>\n",
       "      <th>-45</th>\n",
       "      <td>0</td>\n",
       "      <td>36</td>\n",
       "      <td>16</td>\n",
       "      <td>52</td>\n",
       "      <td>0</td>\n",
       "    </tr>\n",
       "  </tbody>\n",
       "</table>\n",
       "</div>"
      ],
      "text/plain": [
       "          P1Cards  P2Cards  MiddleCards  Turns  Winner\n",
       "SkillDif                                              \n",
       "-49             0       48            4     58       0\n",
       "-48             0       51            1     52       0\n",
       "-47             0       51            1    122       0\n",
       "-46             0       46            6     52       0\n",
       "-45             0       36           16     52       0"
      ]
     },
     "execution_count": 14,
     "metadata": {},
     "output_type": "execute_result"
    }
   ],
   "source": [
    "res_arr_df = pd.DataFrame(data = full_arr)\n",
    "res_arr_df.columns = ['P1Cards', 'P2Cards', 'MiddleCards', 'Turns', 'Winner', 'SkillDif']\n",
    "res_arr_df.set_index('SkillDif', inplace = True)\n",
    "res_arr_df.head()"
   ]
  },
  {
   "cell_type": "code",
   "execution_count": 20,
   "metadata": {},
   "outputs": [
    {
     "data": {
      "text/plain": [
       "<matplotlib.axes._subplots.AxesSubplot at 0x144b8802248>"
      ]
     },
     "execution_count": 20,
     "metadata": {},
     "output_type": "execute_result"
    },
    {
     "data": {
      "image/png": "[encoded data removed]",
      "text/plain": [
       "<Figure size 432x288 with 1 Axes>"
      ]
     },
     "metadata": {
      "needs_background": "light"
     },
     "output_type": "display_data"
    }
   ],
   "source": [
    "sns.scatterplot(x = res_arr_df.index, y = res_arr_df['Turns'], hue = res_arr_df['Winner'], palette = 'mako')"
   ]
  },
  {
   "cell_type": "code",
   "execution_count": 23,
   "metadata": {},
   "outputs": [
    {
     "data": {
      "text/plain": [
       "<seaborn.axisgrid.JointGrid at 0x144b8a8fec8>"
      ]
     },
     "execution_count": 23,
     "metadata": {},
     "output_type": "execute_result"
    },
    {
     "data": {
      "image/png": "[encoded data removed]",
      "text/plain": [
       "<Figure size 432x432 with 3 Axes>"
      ]
     },
     "metadata": {
      "needs_background": "light"
     },
     "output_type": "display_data"
    }
   ],
   "source": [
    "sns.jointplot(data = res_arr_df, x = 'Turns', y = 'MiddleCards',kind = 'kde', color = 'pink', space = 0)"
   ]
  },
  {
   "cell_type": "code",
   "execution_count": null,
   "metadata": {},
   "outputs": [],
   "source": []
  }
 ],
 "metadata": {
  "kernelspec": {
   "display_name": "Python 3",
   "language": "python",
   "name": "python3"
  },
  "language_info": {
   "codemirror_mode": {
    "name": "ipython",
    "version": 3
   },
   "file_extension": ".py",
   "mimetype": "text/x-python",
   "name": "python",
   "nbconvert_exporter": "python",
   "pygments_lexer": "ipython3",
   "version": "3.7.6"
  }
 },
 "nbformat": 4,
 "nbformat_minor": 4
}
