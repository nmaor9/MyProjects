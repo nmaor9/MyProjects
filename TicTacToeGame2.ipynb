{
 "cells": [
  {
   "cell_type": "code",
   "execution_count": 1,
   "metadata": {},
   "outputs": [],
   "source": [
    "from IPython.display import clear_output\n",
    "\n",
    "def display_board(board):\n",
    "    clear_output()  # Remember, this only works in jupyter!\n",
    "    \n",
    "    print('   |   |')\n",
    "    print(' ' + board[7] + ' | ' + board[8] + ' | ' + board[9])\n",
    "    print('   |   |')\n",
    "    print('-----------')\n",
    "    print('   |   |')\n",
    "    print(' ' + board[4] + ' | ' + board[5] + ' | ' + board[6])\n",
    "    print('   |   |')\n",
    "    print('-----------')\n",
    "    print('   |   |')\n",
    "    print(' ' + board[1] + ' | ' + board[2] + ' | ' + board[3])\n",
    "    print('   |   |')"
   ]
  },
  {
   "cell_type": "code",
   "execution_count": 2,
   "metadata": {},
   "outputs": [],
   "source": [
    "def win_check(board,mark):\n",
    "\n",
    "    #return (len(set(board[1:3])) == 1 or len(set(board[4:6])) == 1 or len(set(board[7:9])) == 1 or        #Horizontal                                                   \n",
    "    #len(set(board[1:7:3])) == 1 or len(set(board[2:8:3])) == 1 or len(set(board[3:9:3])) == 1 or          #Vertical\n",
    "    #len(set([board[1], board[5], board[9]])) == 1 or len(set([board[3], board[5], board[7]])) == 1)\n",
    "\n",
    "        \n",
    "    return ((board[7] == mark and board[8] == mark and board[9] == mark) or # across the top\n",
    "    (board[4] == mark and board[5] == mark and board[6] == mark) or # across the middle\n",
    "    (board[1] == mark and board[2] == mark and board[3] == mark) or # across the bottom\n",
    "    (board[7] == mark and board[4] == mark and board[1] == mark) or # down the middle\n",
    "    (board[8] == mark and board[5] == mark and board[2] == mark) or # down the middle\n",
    "    (board[9] == mark and board[6] == mark and board[3] == mark) or # down the right side\n",
    "    (board[7] == mark and board[5] == mark and board[3] == mark) or # diagonal\n",
    "    (board[9] == mark and board[5] == mark and board[1] == mark)) # diagonal\n"
   ]
  },
  {
   "cell_type": "code",
   "execution_count": 3,
   "metadata": {},
   "outputs": [],
   "source": [
    "def tictactoe():\n",
    "    playboard = ['#','1','2','3','4','5','6','7','8','9']\n",
    "    counter = 1\n",
    "    display_board(playboard)\n",
    "    \n",
    "    while win_check(playboard,'X') == False and win_check(playboard,'O') == False:\n",
    "        index_choice = int(input())\n",
    "        \n",
    "        if index_choice >= 1 and index_choice <= 9:\n",
    "            counter += 1\n",
    "            \n",
    "            if counter % 2 == 0:\n",
    "                playboard[index_choice] = 'X'\n",
    "            else:\n",
    "                playboard[index_choice] = 'O'\n",
    "                \n",
    "            display_board(playboard)\n",
    "        else:\n",
    "            print(\"Not on board, please choose a position 1 - 9 as per a numpad.\")\n",
    "        \n",
    "    count_x = playboard.count('X')\n",
    "    count_o = playboard.count('O')\n",
    "    \n",
    "    if counter >= 6:\n",
    "        if count_x > count_o:\n",
    "            print(\"Hey, look! X is the winner!\")\n",
    "        else:\n",
    "            print(\"Hey, look! O is the winner!\")"
   ]
  },
  {
   "cell_type": "code",
   "execution_count": 5,
   "metadata": {},
   "outputs": [
    {
     "name": "stdout",
     "output_type": "stream",
     "text": [
      "   |   |\n",
      " X | O | 9\n",
      "   |   |\n",
      "-----------\n",
      "   |   |\n",
      " 4 | X | O\n",
      "   |   |\n",
      "-----------\n",
      "   |   |\n",
      " O | X | X\n",
      "   |   |\n",
      "Hey, look! X is the winner!\n"
     ]
    }
   ],
   "source": [
    "tictactoe()"
   ]
  },
  {
   "cell_type": "code",
   "execution_count": null,
   "metadata": {},
   "outputs": [],
   "source": []
  }
 ],
 "metadata": {
  "kernelspec": {
   "display_name": "Python 3",
   "language": "python",
   "name": "python3"
  },
  "language_info": {
   "codemirror_mode": {
    "name": "ipython",
    "version": 3
   },
   "file_extension": ".py",
   "mimetype": "text/x-python",
   "name": "python",
   "nbconvert_exporter": "python",
   "pygments_lexer": "ipython3",
   "version": "3.7.6"
  }
 },
 "nbformat": 4,
 "nbformat_minor": 4
}
