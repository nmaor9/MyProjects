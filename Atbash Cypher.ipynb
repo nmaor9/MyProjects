{
 "cells": [
  {
   "cell_type": "code",
   "execution_count": 20,
   "metadata": {},
   "outputs": [],
   "source": [
    "lowers = 'abcdefghijklmnopqrstuvwxyz'\n",
    "reverse = lowers[::-1]\n",
    "codedict = dict(zip(list(lowers), list(reverse)))\n",
    "codedictupper = dict(zip(list(lowers.upper()), list(reverse.upper())))\n",
    "\n",
    "def atbash(txt):\n",
    "\ttxt = list(txt)\n",
    "\ti = -1\n",
    "\tfor char in txt:\n",
    "\t\ti += 1\n",
    "\t\tif char.isalpha():\n",
    "\t\t\tif char.islower():\n",
    "\t\t\t\ttxt[i] = codedict[char]\n",
    "\t\t\telse:\n",
    "\t\t\t\ttxt[i] = codedictupper[char]\n",
    "\t\telse: pass\n",
    "\treturn ''.join(txt)\n",
    "\t"
   ]
  },
  {
   "cell_type": "code",
   "execution_count": 21,
   "metadata": {},
   "outputs": [
    {
     "data": {
      "text/plain": [
       "'ZYXWVUTSRQPONMLKJIHvivDCBA'"
      ]
     },
     "execution_count": 21,
     "metadata": {},
     "output_type": "execute_result"
    }
   ],
   "source": [
    "atbash(\"ABCDEFGHIJKLMNOPQRSereWXYZ\")"
   ]
  },
  {
   "cell_type": "code",
   "execution_count": null,
   "metadata": {},
   "outputs": [],
   "source": []
  }
 ],
 "metadata": {
  "kernelspec": {
   "display_name": "Python 3",
   "language": "python",
   "name": "python3"
  },
  "language_info": {
   "codemirror_mode": {
    "name": "ipython",
    "version": 3
   },
   "file_extension": ".py",
   "mimetype": "text/x-python",
   "name": "python",
   "nbconvert_exporter": "python",
   "pygments_lexer": "ipython3",
   "version": "3.7.6"
  }
 },
 "nbformat": 4,
 "nbformat_minor": 4
}
