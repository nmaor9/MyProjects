{
 "cells": [
  {
   "cell_type": "code",
   "execution_count": 3,
   "metadata": {},
   "outputs": [],
   "source": [
    "def inflation(initial, interest, years = 1):\n",
    "    return round((initial*((1 + interest/100)**years)),2)"
   ]
  },
  {
   "cell_type": "code",
   "execution_count": 4,
   "metadata": {},
   "outputs": [],
   "source": [
    "def yearly_payment(salary,threshold):\n",
    "    if salary > threshold:\n",
    "        return 0.09*(salary - threshold)\n",
    "    else:\n",
    "        return 0"
   ]
  },
  {
   "cell_type": "code",
   "execution_count": 8,
   "metadata": {},
   "outputs": [],
   "source": [
    "def total_paid(initsal,inithreshold):\n",
    "    paid = []\n",
    "    paid.append(yearly_payment(initsal,inithreshold))\n",
    "    \n",
    "    new_sal = initsal\n",
    "    new_thresh = inithreshold\n",
    "    \n",
    "    for year in range(2,31):\n",
    "        i = year + 1\n",
    "        \n",
    "        change = input('Has your salary or the threshold changed? Enter Y/y or N/n: ')\n",
    "        if change == 'Y' or change == 'y':\n",
    "            new_sal = int(input(f'What is your salary in year {year}? £'))\n",
    "            new_thresh = int(input(f'What is the new threshold in year {year}? £'))\n",
    "        else:\n",
    "            how_long = int(input('For how many years will these numbers remain the same? '))\n",
    "        \n",
    "        paid.append(yearly_payment(new_sal,new_thresh))\n",
    "        print(f'You should have paid £{paid[-1]} this year.')\n",
    "        \n",
    "    print(f'The total amount paid over the 30 year period has been: £{sum(paid)}.')"
   ]
  },
  {
   "cell_type": "code",
   "execution_count": 6,
   "metadata": {},
   "outputs": [
    {
     "name": "stdout",
     "output_type": "stream",
     "text": [
      "Has your salary or the threshold changed? Enter Y or N: Y\n",
      "What is your salary in year 2? £23000\n",
      "What is the new threshold in year 2? £27000\n",
      "0\n",
      "Has your salary or the threshold changed? Enter Y or N: N\n",
      "0\n",
      "Has your salary or the threshold changed? Enter Y or N: n\n",
      "0\n",
      "Has your salary or the threshold changed? Enter Y or N: n\n",
      "0\n",
      "Has your salary or the threshold changed? Enter Y or N: n\n",
      "0\n",
      "Has your salary or the threshold changed? Enter Y or N: n\n",
      "0\n",
      "Has your salary or the threshold changed? Enter Y or N: n\n",
      "0\n",
      "Has your salary or the threshold changed? Enter Y or N: n\n",
      "0\n",
      "Has your salary or the threshold changed? Enter Y or N: n\n",
      "0\n",
      "Has your salary or the threshold changed? Enter Y or N: n\n",
      "0\n",
      "Has your salary or the threshold changed? Enter Y or N: n\n",
      "0\n",
      "Has your salary or the threshold changed? Enter Y or N: n\n",
      "0\n",
      "Has your salary or the threshold changed? Enter Y or N: n\n",
      "0\n",
      "Has your salary or the threshold changed? Enter Y or N: n\n",
      "0\n",
      "Has your salary or the threshold changed? Enter Y or N: n\n",
      "0\n",
      "Has your salary or the threshold changed? Enter Y or N: n\n",
      "0\n",
      "Has your salary or the threshold changed? Enter Y or N: n\n",
      "0\n",
      "Has your salary or the threshold changed? Enter Y or N: n\n",
      "0\n",
      "Has your salary or the threshold changed? Enter Y or N: n\n",
      "0\n",
      "Has your salary or the threshold changed? Enter Y or N: n\n",
      "0\n",
      "Has your salary or the threshold changed? Enter Y or N: n\n",
      "0\n",
      "Has your salary or the threshold changed? Enter Y or N: n\n",
      "0\n",
      "Has your salary or the threshold changed? Enter Y or N: n\n",
      "0\n",
      "Has your salary or the threshold changed? Enter Y or N: n\n",
      "0\n",
      "Has your salary or the threshold changed? Enter Y or N: n\n",
      "0\n",
      "Has your salary or the threshold changed? Enter Y or N: n\n",
      "0\n",
      "Has your salary or the threshold changed? Enter Y or N: n\n",
      "0\n",
      "Has your salary or the threshold changed? Enter Y or N: n\n",
      "0\n",
      "Has your salary or the threshold changed? Enter Y or N: n\n",
      "0\n"
     ]
    },
    {
     "data": {
      "text/plain": [
       "270.0"
      ]
     },
     "execution_count": 6,
     "metadata": {},
     "output_type": "execute_result"
    }
   ],
   "source": [
    "total_paid(30000,27000)"
   ]
  },
  {
   "cell_type": "code",
   "execution_count": null,
   "metadata": {},
   "outputs": [],
   "source": []
  }
 ],
 "metadata": {
  "kernelspec": {
   "display_name": "Python 3",
   "language": "python",
   "name": "python3"
  },
  "language_info": {
   "codemirror_mode": {
    "name": "ipython",
    "version": 3
   },
   "file_extension": ".py",
   "mimetype": "text/x-python",
   "name": "python",
   "nbconvert_exporter": "python",
   "pygments_lexer": "ipython3",
   "version": "3.7.6"
  }
 },
 "nbformat": 4,
 "nbformat_minor": 4
}
