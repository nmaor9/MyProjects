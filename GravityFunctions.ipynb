{
 "cells": [
  {
   "cell_type": "code",
   "execution_count": 1,
   "metadata": {},
   "outputs": [],
   "source": [
    "import timeit"
   ]
  },
  {
   "cell_type": "code",
   "execution_count": 2,
   "metadata": {},
   "outputs": [
    {
     "data": {
      "text/plain": [
       "[['-', '#', '#', '#', '#', '-'],\n",
       " ['#', '-', '-', '#', '#', '-'],\n",
       " ['-', '#', '-', '-', '-', '-'],\n",
       " ['-', '-', '-', '-', '-', '-']]"
      ]
     },
     "execution_count": 2,
     "metadata": {},
     "output_type": "execute_result"
    }
   ],
   "source": [
    "gravitybox = [\n",
    "  [\"-\", \"#\", \"#\", \"#\", \"#\", \"-\"],\n",
    "  [\"#\", \"-\", \"-\", \"#\", \"#\", \"-\"],\n",
    "  [\"-\", \"#\", \"-\", \"-\", \"-\", \"-\"],\n",
    "  [\"-\", \"-\", \"-\", \"-\", \"-\", \"-\"]\n",
    "]\n",
    "\n",
    "gravitybox"
   ]
  },
  {
   "cell_type": "code",
   "execution_count": 13,
   "metadata": {},
   "outputs": [],
   "source": [
    "def switch_gravity_on(lst):\n",
    "    return [list(i) for i in zip(*[sorted(i, reverse=True) for i in zip(*lst)])]"
   ]
  },
  {
   "cell_type": "code",
   "execution_count": 14,
   "metadata": {},
   "outputs": [
    {
     "name": "stdout",
     "output_type": "stream",
     "text": [
      "3.22 µs ± 410 ns per loop (mean ± std. dev. of 7 runs, 100000 loops each)\n"
     ]
    }
   ],
   "source": [
    "%%timeit\n",
    "switch_gravity_on(gravitybox)"
   ]
  },
  {
   "cell_type": "code",
   "execution_count": 5,
   "metadata": {},
   "outputs": [
    {
     "data": {
      "text/plain": [
       "[(['-', '#', '#', '#', '#', '-'],),\n",
       " (['#', '-', '-', '#', '#', '-'],),\n",
       " (['-', '#', '-', '-', '-', '-'],),\n",
       " (['-', '-', '-', '-', '-', '-'],)]"
      ]
     },
     "execution_count": 5,
     "metadata": {},
     "output_type": "execute_result"
    }
   ],
   "source": [
    "list(zip(gravitybox))"
   ]
  },
  {
   "cell_type": "code",
   "execution_count": 6,
   "metadata": {},
   "outputs": [
    {
     "data": {
      "text/plain": [
       "[('-', '#', '-', '-'),\n",
       " ('#', '-', '#', '-'),\n",
       " ('#', '-', '-', '-'),\n",
       " ('#', '#', '-', '-'),\n",
       " ('#', '#', '-', '-'),\n",
       " ('-', '-', '-', '-')]"
      ]
     },
     "execution_count": 6,
     "metadata": {},
     "output_type": "execute_result"
    }
   ],
   "source": [
    "list(zip(*gravitybox))"
   ]
  },
  {
   "cell_type": "code",
   "execution_count": 7,
   "metadata": {},
   "outputs": [
    {
     "data": {
      "text/plain": [
       "[['-', '-', '-', '#'],\n",
       " ['-', '-', '#', '#'],\n",
       " ['-', '-', '-', '#'],\n",
       " ['-', '-', '#', '#'],\n",
       " ['-', '-', '#', '#'],\n",
       " ['-', '-', '-', '-']]"
      ]
     },
     "execution_count": 7,
     "metadata": {},
     "output_type": "execute_result"
    }
   ],
   "source": [
    "[sorted(i, reverse=True) for i in zip(*gravitybox)]"
   ]
  },
  {
   "cell_type": "code",
   "execution_count": 8,
   "metadata": {},
   "outputs": [
    {
     "data": {
      "text/plain": [
       "[(('-', '-', '-', '-'),),\n",
       " (('-', '#', '-', '-'),),\n",
       " (('#', '-', '-', '-'),),\n",
       " (('#', '-', '#', '-'),),\n",
       " (('#', '#', '-', '-'),),\n",
       " (('#', '#', '-', '-'),)]"
      ]
     },
     "execution_count": 8,
     "metadata": {},
     "output_type": "execute_result"
    }
   ],
   "source": [
    "list(zip(*[sorted(zip(*gravitybox), reverse = True)]))"
   ]
  },
  {
   "cell_type": "code",
   "execution_count": 15,
   "metadata": {},
   "outputs": [],
   "source": [
    "def switch_gravity_on(lst):\n",
    "    block = \"#\"\n",
    "    empty = \"-\"\n",
    "\n",
    "    maxyIndex = len(lst) - 1\n",
    "    maxxIndex = len(lst[0]) - 1\n",
    "    \n",
    "    for iteration in range(maxyIndex):\n",
    "        for col in range(maxxIndex, -1, -1):\n",
    "            for row in range(maxyIndex-1, -1, -1):\n",
    "                if lst[row+1][col] == empty and lst[row][col] == block:\n",
    "                    lst[row][col] = empty\n",
    "                    lst[row+1][col] = block\n",
    "                    \n",
    "    return lst"
   ]
  },
  {
   "cell_type": "code",
   "execution_count": 16,
   "metadata": {},
   "outputs": [
    {
     "name": "stdout",
     "output_type": "stream",
     "text": [
      "11 µs ± 1.16 µs per loop (mean ± std. dev. of 7 runs, 100000 loops each)\n"
     ]
    }
   ],
   "source": [
    "%%timeit\n",
    "switch_gravity_on(gravitybox)"
   ]
  },
  {
   "cell_type": "code",
   "execution_count": null,
   "metadata": {},
   "outputs": [],
   "source": []
  }
 ],
 "metadata": {
  "kernelspec": {
   "display_name": "Python 3",
   "language": "python",
   "name": "python3"
  },
  "language_info": {
   "codemirror_mode": {
    "name": "ipython",
    "version": 3
   },
   "file_extension": ".py",
   "mimetype": "text/x-python",
   "name": "python",
   "nbconvert_exporter": "python",
   "pygments_lexer": "ipython3",
   "version": "3.7.6"
  }
 },
 "nbformat": 4,
 "nbformat_minor": 4
}
